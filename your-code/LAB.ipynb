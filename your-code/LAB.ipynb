{
 "cells": [
  {
   "cell_type": "markdown",
   "id": "d1ae12a4-f1d5-49e9-8e88-cd5ee90f1c0f",
   "metadata": {},
   "source": [
    "# Lab NUMPY "
   ]
  },
  {
   "cell_type": "code",
   "execution_count": 1,
   "id": "ab906c23-283f-4d6a-a953-4d3688c3dda5",
   "metadata": {},
   "outputs": [],
   "source": [
    "#1. Import the NUMPY package under the name np."
   ]
  },
  {
   "cell_type": "code",
   "execution_count": 2,
   "id": "300db019-3a34-4666-95ce-93d5e09f8a33",
   "metadata": {},
   "outputs": [],
   "source": [
    "import numpy as np"
   ]
  },
  {
   "cell_type": "code",
   "execution_count": 3,
   "id": "e03d17fb-7acd-4258-af87-31cfad9fa95f",
   "metadata": {},
   "outputs": [],
   "source": [
    "#2. Print the NUMPY version and the configuration."
   ]
  },
  {
   "cell_type": "code",
   "execution_count": 4,
   "id": "a871c0f4-9666-4aa6-9ca4-14da13e4a133",
   "metadata": {},
   "outputs": [
    {
     "name": "stdout",
     "output_type": "stream",
     "text": [
      "1.20.1\n"
     ]
    }
   ],
   "source": [
    "print(np.version.version)"
   ]
  },
  {
   "cell_type": "code",
   "execution_count": 5,
   "id": "19187e00-9c63-41f7-b3d4-d5d76043ea7d",
   "metadata": {},
   "outputs": [],
   "source": [
    "#3. Generate a 2x3x5 3-dimensional array with random values. Assign the array to variable \"a\"\n",
    "# Challenge: there are at least three easy ways that use numpy to generate random arrays. How many ways can you find?"
   ]
  },
  {
   "cell_type": "code",
   "execution_count": 6,
   "id": "d65d61d1-6697-42ec-81ed-dff943bfa66f",
   "metadata": {},
   "outputs": [],
   "source": [
    "import random "
   ]
  },
  {
   "cell_type": "code",
   "execution_count": 17,
   "id": "67f2cb3f-1e1c-4c32-9e61-7807a0578478",
   "metadata": {},
   "outputs": [],
   "source": [
    "a = np.random.random((2, 3, 5))"
   ]
  },
  {
   "cell_type": "code",
   "execution_count": 19,
   "id": "0ce6334d-40ee-4e48-9bad-7d53a4e38305",
   "metadata": {},
   "outputs": [
    {
     "name": "stdout",
     "output_type": "stream",
     "text": [
      "[[[0.19357966 0.96386788 0.83767753 0.17429143 0.94375187]\n",
      "  [0.23896758 0.70834803 0.72342246 0.09559907 0.71473264]\n",
      "  [0.18645847 0.57052686 0.38319755 0.41734468 0.5269705 ]]\n",
      "\n",
      " [[0.3481047  0.00617404 0.71511027 0.77253944 0.01069346]\n",
      "  [0.09473739 0.66144871 0.54129895 0.31475582 0.38926166]\n",
      "  [0.8708761  0.44625505 0.06568236 0.96521681 0.88890265]]]\n"
     ]
    }
   ],
   "source": [
    "#4. Print a.\n",
    "\n",
    "print(a)"
   ]
  },
  {
   "cell_type": "code",
   "execution_count": 57,
   "id": "faffed60-293c-4a54-bcaf-528566007d99",
   "metadata": {},
   "outputs": [],
   "source": [
    "#5. Create a 5x3x2 3-dimensional array with all values equaling 1.\n",
    "#Assign the array to variable \"b\""
   ]
  },
  {
   "cell_type": "code",
   "execution_count": 58,
   "id": "edff4e9f-05d7-4d68-90eb-307c83325e01",
   "metadata": {},
   "outputs": [],
   "source": [
    "b = np.ones((5,3,2))"
   ]
  },
  {
   "cell_type": "code",
   "execution_count": 59,
   "id": "3ffd5adc-07de-4158-865a-20e438937f1e",
   "metadata": {},
   "outputs": [
    {
     "name": "stdout",
     "output_type": "stream",
     "text": [
      "[[[1. 1.]\n",
      "  [1. 1.]\n",
      "  [1. 1.]]\n",
      "\n",
      " [[1. 1.]\n",
      "  [1. 1.]\n",
      "  [1. 1.]]\n",
      "\n",
      " [[1. 1.]\n",
      "  [1. 1.]\n",
      "  [1. 1.]]\n",
      "\n",
      " [[1. 1.]\n",
      "  [1. 1.]\n",
      "  [1. 1.]]\n",
      "\n",
      " [[1. 1.]\n",
      "  [1. 1.]\n",
      "  [1. 1.]]]\n"
     ]
    }
   ],
   "source": [
    "#6. Print b.\n",
    "\n",
    "print(b)"
   ]
  },
  {
   "cell_type": "code",
   "execution_count": 24,
   "id": "af53851e-3cbb-4589-9bcb-707ca1b17a83",
   "metadata": {},
   "outputs": [],
   "source": [
    "#7. Do a and b have the same size? How do you prove that in Python code?"
   ]
  },
  {
   "cell_type": "code",
   "execution_count": 53,
   "id": "e3ff4a0f-0a14-441b-81e9-665e52383d3a",
   "metadata": {},
   "outputs": [
    {
     "name": "stdout",
     "output_type": "stream",
     "text": [
      "True\n"
     ]
    }
   ],
   "source": [
    "print(a.size == b.size)"
   ]
  },
  {
   "cell_type": "code",
   "execution_count": 43,
   "id": "9bb306d4-d711-4c72-8879-b890087c9323",
   "metadata": {},
   "outputs": [],
   "source": [
    "#8. Are you able to add a and b? Why or why not?"
   ]
  },
  {
   "cell_type": "code",
   "execution_count": 44,
   "id": "cd22f44f-2d98-4ba3-a417-03a94c4a6ad5",
   "metadata": {},
   "outputs": [
    {
     "ename": "ValueError",
     "evalue": "operands could not be broadcast together with shapes (2,3,5) (5,2,3) ",
     "output_type": "error",
     "traceback": [
      "\u001b[0;31m---------------------------------------------------------------------------\u001b[0m",
      "\u001b[0;31mValueError\u001b[0m                                Traceback (most recent call last)",
      "\u001b[0;32m<ipython-input-44-6de133d5fbbd>\u001b[0m in \u001b[0;36m<module>\u001b[0;34m\u001b[0m\n\u001b[0;32m----> 1\u001b[0;31m \u001b[0mprint\u001b[0m\u001b[0;34m(\u001b[0m\u001b[0ma\u001b[0m\u001b[0;34m+\u001b[0m\u001b[0mb\u001b[0m\u001b[0;34m)\u001b[0m   \u001b[0;31m##No se pueden unir por la forma de sus shapes\u001b[0m\u001b[0;34m\u001b[0m\u001b[0;34m\u001b[0m\u001b[0m\n\u001b[0m",
      "\u001b[0;31mValueError\u001b[0m: operands could not be broadcast together with shapes (2,3,5) (5,2,3) "
     ]
    }
   ],
   "source": [
    "  print(a+b)   ##No se pueden unir por la forma de sus shapes"
   ]
  },
  {
   "cell_type": "code",
   "execution_count": 60,
   "id": "3390203a-63f3-4c33-8f1e-b936e57e6ab8",
   "metadata": {},
   "outputs": [],
   "source": [
    "#9. Transpose b so that it has the same structure of a (i.e. become a 2x3x5 array). Assign the transposed array to varialbe \"c\".pose b so that it has the same structure of a (i.e. become a 2x3x5 array). Assign the transposed array to varialbe \"c\"."
   ]
  },
  {
   "cell_type": "code",
   "execution_count": 61,
   "id": "93393773-c9c9-41e1-91bf-418caa635606",
   "metadata": {},
   "outputs": [],
   "source": [
    "c = b.transpose()"
   ]
  },
  {
   "cell_type": "code",
   "execution_count": 62,
   "id": "48c93e50-30c4-4220-83fc-6a3d941592ce",
   "metadata": {},
   "outputs": [
    {
     "name": "stdout",
     "output_type": "stream",
     "text": [
      "[[[1. 1. 1. 1. 1.]\n",
      "  [1. 1. 1. 1. 1.]\n",
      "  [1. 1. 1. 1. 1.]]\n",
      "\n",
      " [[1. 1. 1. 1. 1.]\n",
      "  [1. 1. 1. 1. 1.]\n",
      "  [1. 1. 1. 1. 1.]]]\n"
     ]
    }
   ],
   "source": [
    "print(c)"
   ]
  },
  {
   "cell_type": "code",
   "execution_count": 63,
   "id": "208af0ab-276f-4ec0-ad59-cee07ef7efce",
   "metadata": {},
   "outputs": [],
   "source": [
    "#10. Try to add a and c. Now it should work. Assign the sum to varialbe \"d\". But why does it work now?"
   ]
  },
  {
   "cell_type": "code",
   "execution_count": 65,
   "id": "334da981-1a63-402b-8665-3eec5167b2d3",
   "metadata": {},
   "outputs": [],
   "source": [
    "d = a+c"
   ]
  },
  {
   "cell_type": "code",
   "execution_count": 67,
   "id": "352318da-f859-49ca-a0e2-d9d528933b67",
   "metadata": {},
   "outputs": [],
   "source": [
    "#11. Print a and d. Notice the difference and relation of the two array in terms of the values? Explain."
   ]
  },
  {
   "cell_type": "code",
   "execution_count": 73,
   "id": "73438b15-12ec-4ed6-abed-99624b8cc1d6",
   "metadata": {},
   "outputs": [
    {
     "name": "stdout",
     "output_type": "stream",
     "text": [
      "[[[0.19357966 0.96386788 0.83767753 0.17429143 0.94375187]\n",
      "  [0.23896758 0.70834803 0.72342246 0.09559907 0.71473264]\n",
      "  [0.18645847 0.57052686 0.38319755 0.41734468 0.5269705 ]]\n",
      "\n",
      " [[0.3481047  0.00617404 0.71511027 0.77253944 0.01069346]\n",
      "  [0.09473739 0.66144871 0.54129895 0.31475582 0.38926166]\n",
      "  [0.8708761  0.44625505 0.06568236 0.96521681 0.88890265]]]\n",
      "[[[1.19357966 1.96386788 1.83767753 1.17429143 1.94375187]\n",
      "  [1.23896758 1.70834803 1.72342246 1.09559907 1.71473264]\n",
      "  [1.18645847 1.57052686 1.38319755 1.41734468 1.5269705 ]]\n",
      "\n",
      " [[1.3481047  1.00617404 1.71511027 1.77253944 1.01069346]\n",
      "  [1.09473739 1.66144871 1.54129895 1.31475582 1.38926166]\n",
      "  [1.8708761  1.44625505 1.06568236 1.96521681 1.88890265]]]\n"
     ]
    }
   ],
   "source": [
    "print(a)\n",
    "print(d)"
   ]
  },
  {
   "cell_type": "code",
   "execution_count": 68,
   "id": "c177e237-fec8-41d7-9b77-ab98302612da",
   "metadata": {},
   "outputs": [],
   "source": [
    "#12. Multiply a and c. Assign the result to e."
   ]
  },
  {
   "cell_type": "code",
   "execution_count": 69,
   "id": "2d319cc7-c5bf-4ba8-836b-5ba92227ef4c",
   "metadata": {},
   "outputs": [],
   "source": [
    "e = a * c"
   ]
  },
  {
   "cell_type": "code",
   "execution_count": 70,
   "id": "c8f85644-9c3e-485b-bde9-a9da825e243f",
   "metadata": {},
   "outputs": [
    {
     "name": "stdout",
     "output_type": "stream",
     "text": [
      "[[[0.19357966 0.96386788 0.83767753 0.17429143 0.94375187]\n",
      "  [0.23896758 0.70834803 0.72342246 0.09559907 0.71473264]\n",
      "  [0.18645847 0.57052686 0.38319755 0.41734468 0.5269705 ]]\n",
      "\n",
      " [[0.3481047  0.00617404 0.71511027 0.77253944 0.01069346]\n",
      "  [0.09473739 0.66144871 0.54129895 0.31475582 0.38926166]\n",
      "  [0.8708761  0.44625505 0.06568236 0.96521681 0.88890265]]]\n"
     ]
    }
   ],
   "source": [
    "print(e)"
   ]
  },
  {
   "cell_type": "code",
   "execution_count": 71,
   "id": "99d67686-de3b-4916-a541-f85a64abb7a4",
   "metadata": {},
   "outputs": [],
   "source": [
    "#13. Does e equal to a? Why or why not?"
   ]
  },
  {
   "cell_type": "code",
   "execution_count": 74,
   "id": "5713e647-8286-40f7-8490-37b1c224f235",
   "metadata": {},
   "outputs": [
    {
     "name": "stdout",
     "output_type": "stream",
     "text": [
      "[[[ True  True  True  True  True]\n",
      "  [ True  True  True  True  True]\n",
      "  [ True  True  True  True  True]]\n",
      "\n",
      " [[ True  True  True  True  True]\n",
      "  [ True  True  True  True  True]\n",
      "  [ True  True  True  True  True]]]\n"
     ]
    }
   ],
   "source": [
    "print(e == a)"
   ]
  },
  {
   "cell_type": "code",
   "execution_count": 76,
   "id": "542b6041-749f-4d58-b6ab-845d2b053806",
   "metadata": {},
   "outputs": [],
   "source": [
    "#14. Identify the max, min, and mean values in d. Assign those values to variables \"d_max\", \"d_min\", and \"d_mean\""
   ]
  },
  {
   "cell_type": "code",
   "execution_count": 79,
   "id": "db5cca44-b387-4e1a-852e-8435eb8fec52",
   "metadata": {},
   "outputs": [
    {
     "name": "stdout",
     "output_type": "stream",
     "text": [
      "1.9652168071138152\n",
      "1.0061740363570313\n",
      "1.4923264533552056\n"
     ]
    }
   ],
   "source": [
    "d_max=np.max(d)\n",
    "d_min=np.min(d)\n",
    "d_mean=np.mean(d)\n",
    "\n",
    "\n",
    "print(d_max)\n",
    "print(d_min)\n",
    "print(d_mean)"
   ]
  },
  {
   "cell_type": "code",
   "execution_count": 80,
   "id": "5eb0b149-883b-4894-a3ff-452b54598471",
   "metadata": {},
   "outputs": [],
   "source": [
    "#15. Now we want to label the values in d. First create an empty array \"f\" with the same shape (i.e. 2x3x5) as d using `np.empty`."
   ]
  },
  {
   "cell_type": "code",
   "execution_count": 87,
   "id": "34d5d55b-1661-412a-9beb-5178d487f8d7",
   "metadata": {},
   "outputs": [],
   "source": [
    "f = np.empty((2,3,5))"
   ]
  },
  {
   "cell_type": "code",
   "execution_count": 88,
   "id": "4f0e5a8f-2d6f-4e5f-a591-6be986cce716",
   "metadata": {},
   "outputs": [
    {
     "data": {
      "text/plain": [
       "array([[[1.19357966, 1.96386788, 1.83767753, 1.17429143, 1.94375187],\n",
       "        [1.23896758, 1.70834803, 1.72342246, 1.09559907, 1.71473264],\n",
       "        [1.18645847, 1.57052686, 1.38319755, 1.41734468, 1.5269705 ]],\n",
       "\n",
       "       [[1.3481047 , 1.00617404, 1.71511027, 1.77253944, 1.01069346],\n",
       "        [1.09473739, 1.66144871, 1.54129895, 1.31475582, 1.38926166],\n",
       "        [1.8708761 , 1.44625505, 1.06568236, 1.96521681, 1.88890265]]])"
      ]
     },
     "execution_count": 88,
     "metadata": {},
     "output_type": "execute_result"
    }
   ],
   "source": [
    "f"
   ]
  },
  {
   "cell_type": "code",
   "execution_count": 89,
   "id": "39963491-fa09-47c8-ab16-39801b2d0389",
   "metadata": {},
   "outputs": [
    {
     "data": {
      "text/plain": [
       "\"\\n#16. Populate the values in f. For each value in d, if it's larger than d_min but smaller than d_mean, assign 25 to the corresponding value in f.\\nIf a value in d is larger than d_mean but smaller than d_max, assign 75 to the corresponding value in f.\\nIf a value equals to d_mean, assign 50 to the corresponding value in f.\\nAssign 0 to the corresponding value(s) in f for d_min in d.\\nAssign 100 to the corresponding value(s) in f for d_max in d.\\nIn the end, f should have only the following values: 0, 25, 50, 75, and 100.\\nNote: you don't have to use Numpy in this question.\\n\""
      ]
     },
     "execution_count": 89,
     "metadata": {},
     "output_type": "execute_result"
    }
   ],
   "source": [
    "\"\"\"\n",
    "#16. Populate the values in f. For each value in d, if it's larger than d_min but smaller than d_mean, assign 25 to the corresponding value in f.\n",
    "If a value in d is larger than d_mean but smaller than d_max, assign 75 to the corresponding value in f.\n",
    "If a value equals to d_mean, assign 50 to the corresponding value in f.\n",
    "Assign 0 to the corresponding value(s) in f for d_min in d.\n",
    "Assign 100 to the corresponding value(s) in f for d_max in d.\n",
    "In the end, f should have only the following values: 0, 25, 50, 75, and 100.\n",
    "Note: you don't have to use Numpy in this question.\n",
    "\"\"\""
   ]
  },
  {
   "cell_type": "code",
   "execution_count": null,
   "id": "e0ae4b73-a9f9-408e-80d1-0d46a12b5ec3",
   "metadata": {},
   "outputs": [],
   "source": []
  },
  {
   "cell_type": "code",
   "execution_count": 81,
   "id": "36c8951e-0346-4f4a-a63f-127aacb7224f",
   "metadata": {},
   "outputs": [
    {
     "data": {
      "text/plain": [
       "'\\n#18. Bonus question: instead of using numbers (i.e. 0, 25, 50, 75, and 100), how to use string values \\n(\"A\", \"B\", \"C\", \"D\", and \"E\") to label the array elements? You are expecting the result to be:\\narray([[[ \\'D\\',  \\'D\\',  \\'D\\',  \\'B\\',  \\'D\\'],\\n        [ \\'D\\',  \\'D\\',  \\'B\\',  \\'B\\',  \\'B\\'],\\n        [ \\'D\\',  \\'B\\',  \\'D\\',  \\'D\\',  \\'D\\']],\\n\\n       [[ \\'B\\',  \\'B\\',  \\'B\\',  \\'B\\',  \\'E\\'],\\n        [ \\'D\\',  \\'D\\',  \\'D\\',  \\'D\\',  \\'D\\'],\\n        [ \\'B\\',  \\'D\\',   \\'A\\',  \\'D\\', \\'D\\']]])\\nAgain, you don\\'t need Numpy in this question.\\n'"
      ]
     },
     "execution_count": 81,
     "metadata": {},
     "output_type": "execute_result"
    }
   ],
   "source": [
    "\"\"\"\n",
    "#16. Populate the values in f. For each value in d, if it's larger than d_min but smaller than d_mean, assign 25 to the corresponding value in f.\n",
    "If a value in d is larger than d_mean but smaller than d_max, assign 75 to the corresponding value in f.\n",
    "If a value equals to d_mean, assign 50 to the corresponding value in f.\n",
    "Assign 0 to the corresponding value(s) in f for d_min in d.\n",
    "Assign 100 to the corresponding value(s) in f for d_max in d.\n",
    "In the end, f should have only the following values: 0, 25, 50, 75, and 100.\n",
    "Note: you don't have to use Numpy in this question.\n",
    "\"\"\"\n",
    "\n",
    "\n",
    "\n",
    "\n",
    "\"\"\"\n",
    "#17. Print d and f. Do you have your expected f?\n",
    "For instance, if your d is:\n",
    "array([[[1.85836099, 1.67064465, 1.62576044, 1.40243961, 1.88454931],\n",
    "        [1.75354326, 1.69403643, 1.36729252, 1.61415071, 1.12104981],\n",
    "        [1.72201435, 1.1862918 , 1.87078449, 1.7726778 , 1.88180042]],\n",
    "\n",
    "       [[1.44747908, 1.31673383, 1.02000951, 1.52218947, 1.97066381],\n",
    "        [1.79129243, 1.74983003, 1.96028037, 1.85166831, 1.65450881],\n",
    "        [1.18068344, 1.9587381 , 1.00656599, 1.93402165, 1.73514584]]])\n",
    "\n",
    "Your f should be:\n",
    "array([[[ 75.,  75.,  75.,  25.,  75.],\n",
    "        [ 75.,  75.,  25.,  25.,  25.],\n",
    "        [ 75.,  25.,  75.,  75.,  75.]],\n",
    "\n",
    "       [[ 25.,  25.,  25.,  25., 100.],\n",
    "        [ 75.,  75.,  75.,  75.,  75.],\n",
    "        [ 25.,  75.,   0.,  75.,  75.]]])\n",
    "\"\"\"\n",
    "\n",
    "\n",
    "\"\"\"\n",
    "#18. Bonus question: instead of using numbers (i.e. 0, 25, 50, 75, and 100), how to use string values \n",
    "(\"A\", \"B\", \"C\", \"D\", and \"E\") to label the array elements? You are expecting the result to be:\n",
    "array([[[ 'D',  'D',  'D',  'B',  'D'],\n",
    "        [ 'D',  'D',  'B',  'B',  'B'],\n",
    "        [ 'D',  'B',  'D',  'D',  'D']],\n",
    "\n",
    "       [[ 'B',  'B',  'B',  'B',  'E'],\n",
    "        [ 'D',  'D',  'D',  'D',  'D'],\n",
    "        [ 'B',  'D',   'A',  'D', 'D']]])\n",
    "Again, you don't need Numpy in this question.\n",
    "\"\"\""
   ]
  },
  {
   "cell_type": "code",
   "execution_count": null,
   "id": "27c94216-7609-4aff-944b-989de42e1d05",
   "metadata": {},
   "outputs": [],
   "source": []
  }
 ],
 "metadata": {
  "kernelspec": {
   "display_name": "Python 3",
   "language": "python",
   "name": "python3"
  },
  "language_info": {
   "codemirror_mode": {
    "name": "ipython",
    "version": 3
   },
   "file_extension": ".py",
   "mimetype": "text/x-python",
   "name": "python",
   "nbconvert_exporter": "python",
   "pygments_lexer": "ipython3",
   "version": "3.8.8"
  }
 },
 "nbformat": 4,
 "nbformat_minor": 5
}
